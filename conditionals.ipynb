{
 "cells": [
  {
   "cell_type": "markdown",
   "metadata": {},
   "source": [
    "# Use `if` statements to control whether or not a block of code is executed.\n",
    "* An `if` statement (more properly called a *conditional* statement) controls whether some block of code is executed or not.\n",
    "* Structure is similar to a `for` statement:\n",
    "    * First line opens with `if` and ends with a colon\n",
    "    * Body containing one or more statements is indented (usually by 4 spaces)"
   ]
  },
  {
   "cell_type": "code",
   "execution_count": 1,
   "metadata": {},
   "outputs": [
    {
     "name": "stdout",
     "output_type": "stream",
     "text": [
      "3.54 is large\n"
     ]
    }
   ],
   "source": [
    "mass = 3.54\n",
    "if mass > 3.0:\n",
    "    print(mass, \"is large\")\n",
    "    \n",
    "mass = 2.07\n",
    "if mass > 3.0:\n",
    "    print(mass, \"is large\")"
   ]
  },
  {
   "cell_type": "markdown",
   "metadata": {},
   "source": [
    "# Conditionals are often used inside loops.\n",
    "* Not much point using a conditional when we know the value (as above).\n",
    "* But useful when we have a collection to process."
   ]
  },
  {
   "cell_type": "code",
   "execution_count": 4,
   "metadata": {},
   "outputs": [
    {
     "name": "stdout",
     "output_type": "stream",
     "text": [
      "3.54 is large\n",
      "9.22 is large\n"
     ]
    }
   ],
   "source": [
    "masses = [3.54 ,2.07, 9.22, 1.86, 1.71]\n",
    "for m in masses:\n",
    "    if m > 3.0:\n",
    "        print(m, \"is large\")"
   ]
  },
  {
   "cell_type": "markdown",
   "metadata": {},
   "source": [
    "# Use `else` to execute a block of code when an `if` condition is *not* true.\n",
    "* `else` can be used following an `if`.\n",
    "* Allows us to specify an alternative to execute when the `if` branch isn’t taken."
   ]
  },
  {
   "cell_type": "code",
   "execution_count": 9,
   "metadata": {},
   "outputs": [
    {
     "name": "stdout",
     "output_type": "stream",
     "text": [
      "3.54 Small\n",
      "2.07 Small\n",
      "9.22 Huge\n",
      "1.86 Small\n",
      "1.71 Small\n"
     ]
    }
   ],
   "source": [
    "masses = [3.54 ,2.07, 9.22, 1.86, 1.71]\n",
    "for m in masses:\n",
    "    if m > 9.0:\n",
    "        print(m, \"Huge\")\n",
    "    elif m > 6.0:\n",
    "        print(m, \"Mweh\")\n",
    "    else:\n",
    "        print(m, \"Small\")\n",
    "    "
   ]
  },
  {
   "cell_type": "markdown",
   "metadata": {},
   "source": [
    "# Use `elif` to specify additional tests.\n",
    "* May want to provide several alternative choices, each with its own test.\n",
    "* Use `elif` (short for “else if”) and a condition to specify these.\n",
    "* Always associated with an `if`.\n",
    "* Must come before the `else` (which is the “catch all”)."
   ]
  },
  {
   "cell_type": "code",
   "execution_count": null,
   "metadata": {},
   "outputs": [],
   "source": []
  },
  {
   "cell_type": "markdown",
   "metadata": {},
   "source": [
    "# Conditions are tested once, in order.\n",
    "* Python steps through the branches of the conditional in order, testing each in turn.\n",
    "* So ordering matters."
   ]
  },
  {
   "cell_type": "code",
   "execution_count": 10,
   "metadata": {},
   "outputs": [
    {
     "name": "stdout",
     "output_type": "stream",
     "text": [
      "grade is C\n",
      "grade is B\n"
     ]
    }
   ],
   "source": [
    "grade = 8.5\n",
    "if grade >= 7.0:\n",
    "    print(\"grade is C\")\n",
    "if grade >= 8.0:\n",
    "    print(\"grade is B\")\n",
    "if grade >= 9.0:\n",
    "    print(\"grade is A\")    "
   ]
  },
  {
   "cell_type": "markdown",
   "metadata": {},
   "source": [
    "\n",
    "* Does *not* automatically go back and re-evaluate if values change."
   ]
  },
  {
   "cell_type": "markdown",
   "metadata": {},
   "source": [
    "# Create a table showing variables’ values to trace a program’s execution.\n",
    "\n",
    "I didn't get what this exercise is doing. I you can finish it in your own time I'll buy you a drink :)."
   ]
  },
  {
   "cell_type": "code",
   "execution_count": null,
   "metadata": {},
   "outputs": [],
   "source": []
  },
  {
   "cell_type": "markdown",
   "metadata": {},
   "source": [
    "# Ex. Tracing Execution\n",
    "\n",
    "What does this program print?\n",
    "\n",
    "```\n",
    "pressure = 71.9\n",
    "if pressure > 50.0:\n",
    "    pressure = 25.0\n",
    "elif pressure <= 50.0:\n",
    "    pressure = 0.0\n",
    "print(pressure)\n",
    "```"
   ]
  },
  {
   "cell_type": "code",
   "execution_count": null,
   "metadata": {},
   "outputs": [],
   "source": []
  },
  {
   "cell_type": "markdown",
   "metadata": {},
   "source": [
    "# Trimming Values\n",
    "\n",
    "Fill in the blanks so that this program creates a new list containing zeroes where the original list’s values were negative and ones where the original list’s values were positive.\n",
    "\n",
    "```\n",
    "original = [-1.5, 0.2, 0.4, 0.0, -1.3, 0.4]\n",
    "result = ____\n",
    "for value in original:\n",
    "    if ____:\n",
    "        result.append(0)\n",
    "    else:\n",
    "        ____\n",
    "print(result)\n",
    "```\n",
    "```\n",
    "[0, 1, 1, 1, 0, 1]\n",
    "```"
   ]
  },
  {
   "cell_type": "code",
   "execution_count": null,
   "metadata": {},
   "outputs": [],
   "source": []
  },
  {
   "cell_type": "markdown",
   "metadata": {},
   "source": [
    "# Ex. Processing Small Files\n",
    "Modify this program so that it only processes files with fewer than 50 records.\n",
    "\n",
    "```\n",
    "import glob\n",
    "import pandas\n",
    "for filename in glob.glob('data/*.csv'):\n",
    "    contents = pandas.read_csv(filename)\n",
    "    ____:\n",
    "        print(filename, len(contents))\n",
    "```"
   ]
  },
  {
   "cell_type": "code",
   "execution_count": null,
   "metadata": {},
   "outputs": [],
   "source": []
  },
  {
   "cell_type": "markdown",
   "metadata": {},
   "source": [
    "# Initializing\n",
    "Modify this program so that it finds the largest and smallest values in the list no matter what the range of values originally is.\n",
    "\n",
    "```\n",
    "values = [...some test data...]\n",
    "smallest, largest = None, None\n",
    "for v in values:\n",
    "    if ____:\n",
    "        smallest, largest = v, v\n",
    "    ____:\n",
    "        smallest = min(____, v)\n",
    "        largest = max(____, v)\n",
    "print(smallest, largest)\n",
    "```"
   ]
  },
  {
   "cell_type": "code",
   "execution_count": null,
   "metadata": {},
   "outputs": [],
   "source": []
  },
  {
   "cell_type": "markdown",
   "metadata": {},
   "source": [
    "# Ex. Using Functions With Conditionals in Pandas\n",
    "Functions will often contain conditionals. Here is a short example that will indicate which quartile the argument is in based on hand-coded values for the quartile cut points.\n",
    "\n",
    "```\n",
    "def calculate_life_quartile(exp):\n",
    "    if exp < 58.41:\n",
    "        # This observation is in the first quartile\n",
    "        return 1\n",
    "    elif exp >= 58.41 and exp < 67.05:\n",
    "        # This observation is in the second quartile\n",
    "       return 2\n",
    "    elif exp >= 67.05 and exp < 71.70:\n",
    "        # This observation is in the third quartile\n",
    "       return 3\n",
    "    elif exp >= 71.70:\n",
    "        # This observation is in the fourth quartile\n",
    "       return 4\n",
    "    else:\n",
    "        # This observation has bad data\n",
    "       return None\n",
    "\n",
    "calculate_life_quartile(62.5)\n",
    "```\n",
    "```\n",
    "2\n",
    "```\n",
    "\n",
    "That function would typically be used within a `for` loop, but Pandas has a different, more efficient way of doing the same thing, and that is by *applying* a function to a dataframe or a portion of a dataframe. Here is an example, using the definition above.\n",
    "\n",
    "```\n",
    "data = pd.read_csv('Americas-data.csv')\n",
    "data['life_qrtl'] = data['lifeExp'].apply(calculate_life_quartile)\n",
    "```\n",
    "\n",
    "There is a lot in that second line, so let’s take it piece by piece. On the right side of the `=` we start with `data['lifeExp']`, which is the column in the dataframe called `data` labeled `lifExp`. We use the `apply()` to do what it says, apply the calculate_life_quartile to the value of this column for every row in the dataframe."
   ]
  },
  {
   "cell_type": "markdown",
   "metadata": {},
   "source": []
  }
 ],
 "metadata": {
  "kernelspec": {
   "display_name": "Python 3",
   "language": "python",
   "name": "python3"
  },
  "language_info": {
   "codemirror_mode": {
    "name": "ipython",
    "version": 3
   },
   "file_extension": ".py",
   "mimetype": "text/x-python",
   "name": "python",
   "nbconvert_exporter": "python",
   "pygments_lexer": "ipython3",
   "version": "3.7.1"
  }
 },
 "nbformat": 4,
 "nbformat_minor": 2
}
