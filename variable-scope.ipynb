{
 "cells": [
  {
   "cell_type": "markdown",
   "metadata": {},
   "source": [
    "# The scope of a variable is the part of a program that can ‘see’ that variable.\n",
    "* There are only so many sensible names for variables.\n",
    "* People using functions shouldn’t have to worry about what variable names the author of the function used.\n",
    "* People writing functions shouldn’t have to worry about what variable names the function’s caller uses.\n",
    "* The part of a program in which a variable is visible is called its scope.\n",
    "\n",
    "```\n",
    "pressure = 103.9\n",
    "\n",
    "def adjust(t):\n",
    "    temperature = t * 1.43 / pressure\n",
    "    return temperature\n",
    "```\n",
    "\n",
    "* `pressure` is a global variable.\n",
    "    * Defined outside any particular function.\n",
    "    * Visible everywhere.\n",
    "* `t` and `temperature` are local variables in adjust.\n",
    "    * Defined in the function.\n",
    "    * Not visible in the main program.\n",
    "* Remember: a function parameter is a variable that is automatically assigned a value when the function is called."
   ]
  },
  {
   "cell_type": "code",
   "execution_count": 8,
   "metadata": {},
   "outputs": [
    {
     "name": "stdout",
     "output_type": "stream",
     "text": [
      "103.9\n"
     ]
    }
   ],
   "source": [
    "pressure = 103.9\n",
    "\n",
    "def adjust(t):\n",
    "    temperature = t * 1.43 / pressure\n",
    "    return temperature\n",
    "\n",
    "temp = adjust(10)\n",
    "print(pressure)"
   ]
  },
  {
   "cell_type": "markdown",
   "metadata": {},
   "source": [
    "# Ex. Local and Global Variable Use\n",
    "Trace the values of all variables in this program as it is executed. (Use ‘—’ as the value of variables before and after they exist.)\n",
    "\n",
    "```\n",
    "limit = 100\n",
    "\n",
    "def clip(value):\n",
    "    return min(max(0.0, value), limit)\n",
    "\n",
    "value = -22.5\n",
    "print(clip(value))\n",
    "```"
   ]
  },
  {
   "cell_type": "code",
   "execution_count": null,
   "metadata": {},
   "outputs": [],
   "source": []
  },
  {
   "cell_type": "markdown",
   "metadata": {},
   "source": [
    "# Ex. Reading Error Messages\n",
    "Read the traceback below, and identify the following:\n",
    "\n",
    "1. How many levels does the traceback have?\n",
    "2. What is the file name where the error occurred?\n",
    "3. What is the function name where the error occurred?\n",
    "4. On which line number in this function did the error occurr?\n",
    "5. What is the type of error?\n",
    "6. What is the error message?\n",
    "\n",
    "```\n",
    "---------------------------------------------------------------------------\n",
    "KeyError                                  Traceback (most recent call last)\n",
    "<ipython-input-2-e4c4cbafeeb5> in <module>()\n",
    "      1 import errors_02\n",
    "----> 2 errors_02.print_friday_message()\n",
    "\n",
    "/Users/ghopper/thesis/code/errors_02.py in print_friday_message()\n",
    "     13\n",
    "     14 def print_friday_message():\n",
    "---> 15     print_message(\"Friday\")\n",
    "\n",
    "/Users/ghopper/thesis/code/errors_02.py in print_message(day)\n",
    "      9         \"sunday\": \"Aw, the weekend is almost over.\"\n",
    "     10     }\n",
    "---> 11     print(messages[day])\n",
    "     12\n",
    "     13\n",
    "\n",
    "KeyError: 'Friday'\n",
    "```"
   ]
  },
  {
   "cell_type": "code",
   "execution_count": null,
   "metadata": {},
   "outputs": [],
   "source": []
  }
 ],
 "metadata": {
  "kernelspec": {
   "display_name": "Python 3",
   "language": "python",
   "name": "python3"
  },
  "language_info": {
   "codemirror_mode": {
    "name": "ipython",
    "version": 3
   },
   "file_extension": ".py",
   "mimetype": "text/x-python",
   "name": "python",
   "nbconvert_exporter": "python",
   "pygments_lexer": "ipython3",
   "version": "3.7.1"
  }
 },
 "nbformat": 4,
 "nbformat_minor": 2
}
