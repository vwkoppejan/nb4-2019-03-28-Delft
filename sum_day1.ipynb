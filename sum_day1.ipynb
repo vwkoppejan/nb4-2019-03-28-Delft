{
 "cells": [
  {
   "cell_type": "markdown",
   "metadata": {},
   "source": [
    "# You **don't** have to type anything for now :)"
   ]
  },
  {
   "cell_type": "markdown",
   "metadata": {
    "heading_collapsed": true
   },
   "source": [
    "# What did  we do yesterday?\n",
    "\n",
    "We used the material from [this](http://swcarpentry.github.io/python-novice-gapminder/) swc lesson to get started with Python. Ruud guided us though the following topics:\n",
    "\n",
    "* Running and Quitting\n",
    "* Variables and Assignment\n",
    "* Data Types and Type Conversion\n",
    "* Built-in Functions and Help\n",
    "* Libraries\n",
    "* Reading Tabular Data into DataFrames\n",
    "* Pandas DataFrames\n",
    "* Plotting\n",
    "\n",
    "*\"Yeah, that was nice :). It was a but long though, in the end it didn't get all of it.\"*"
   ]
  },
  {
   "cell_type": "markdown",
   "metadata": {},
   "source": [
    "# What's up for today?\n",
    "\n",
    "Well, first we would like to revisit some questions you had yesterday (both in person and on the post-its)\n",
    "\n",
    "* *\"I thought I would learn Python, what's all this Jupyter stuff?\"*\n",
    "* *\"Is it really safe to use, I mean, I'm running stuff in a browser.\"*\n",
    "* *\"Why do I need to import libraries and modules, this confuses me.\"*\n",
    "    * *\"What are good libraries to import?\"*\n",
    "* *\"Can I save my notebook?\"*\n",
    "* *\"I think I saved my notebook, but where is it?\"*\n",
    "* *\"Why did we just use pandas, that's not Python is it?\"*\n",
    "* *\"When should I use “.”,”_”, “[]”, “()”,”{}”, “-” ?\"*"
   ]
  },
  {
   "cell_type": "markdown",
   "metadata": {},
   "source": [
    "## I thought I would learn Python, what's all this Jupyter stuff?\n",
    "\n",
    "Jupyter notebooks are an extension to what once started as the ipython (\"as in interactive Python\") environment. But since it runs in a browser, we can use html and html5 to render things. You can find more info [here](https://en.wikipedia.org/wiki/Project_Jupyter)\n",
    "\n",
    "![](https://jupyter.readthedocs.io/en/latest/_images/notebook_components.png)\n",
    "\n",
    "## So when you read this, Python is running in the background, ready to be awesome whenever you want\n",
    "\n",
    "### Or give errors when you don't, life's like that sometimes"
   ]
  },
  {
   "cell_type": "markdown",
   "metadata": {},
   "source": [
    "## To help you out I prepared Jupyter notebooks for today \n",
    "\n",
    "The have with skeletons of the course material. You still have to type but I provided you with what we call \"boiler plate code\" i.e. (boring code that you need to get things done)\n",
    "\n",
    "First let put on some music, on the way home I listened to David Vunk in the bus. I liked it so I googled how I can embed youtube videos on Jupyter. I found [this](https://gist.github.com/christopherlovell/e3e70880c0b0ad666e7b5fe311320a62) and gave it a try."
   ]
  },
  {
   "cell_type": "code",
   "execution_count": null,
   "metadata": {},
   "outputs": [],
   "source": [
    "YouTubeVideo(\"U_6Vc5mO8Lg\")"
   ]
  },
  {
   "cell_type": "markdown",
   "metadata": {},
   "source": [
    "Ahh that's not working at all, YouTubeVideo is not defined. But wait, maybe I forgot to import it (true story)"
   ]
  },
  {
   "cell_type": "code",
   "execution_count": null,
   "metadata": {},
   "outputs": [],
   "source": [
    "from IPython.display import YouTubeVideo\n",
    "YouTubeVideo(\"U_6Vc5mO8Lg\")"
   ]
  },
  {
   "cell_type": "markdown",
   "metadata": {},
   "source": [
    "*\"Ahh, so that's why I sometimes need to import libraries. Nice music, got my Friday feeling going en everything. But what's going is that 'from' there?\"*\n",
    "\n",
    "That's so we can specifically import a single thing from a library.\n",
    "\n",
    "*\"That's cool, still getting my head around it though\", what are other good libraries?*\n",
    "\n",
    "That depends on your field. I personally like a lot of the libs from the [numfocus](https://numfocus.org/sponsored-projects) and their [pydata](https://pydata.org/) project.\n",
    "\n",
    "For instance they make Pandas, which is currently the goto tool for tabular data analysis. We use since it save you a lot of work and a lot of code to write."
   ]
  },
  {
   "cell_type": "markdown",
   "metadata": {},
   "source": [
    "## *\"O.k., thanks, what's up for today then?\"*\n",
    "\n",
    "We'll go over the following things:\n",
    "\n",
    "* Quickly finish the pandas and plotting part (code will be provided)\n",
    "* Lists (and why and when you should use [] {} etc.\n",
    "* For Loops\n",
    "    * Looping Over Data Sets\n",
    "* Writing Functions\n",
    "* Variable Scope (how long and where do things live and die in Python)\n",
    "* Conditional statements\n",
    "* Programming style (code will be provided)\n",
    "* Wrap-Up/Feedback\n",
    "* Closing drinks and networking\n",
    "\n",
    "# Let's get started. Now that you can use git, clone the notebooks and data using:\n",
    "\n",
    "git clone https://github.com/vwkoppejan/nb4-2019-03-28-Delft.git"
   ]
  }
 ],
 "metadata": {
  "kernelspec": {
   "display_name": "Python 3",
   "language": "python",
   "name": "python3"
  },
  "language_info": {
   "codemirror_mode": {
    "name": "ipython",
    "version": 3
   },
   "file_extension": ".py",
   "mimetype": "text/x-python",
   "name": "python",
   "nbconvert_exporter": "python",
   "pygments_lexer": "ipython3",
   "version": "3.7.1"
  }
 },
 "nbformat": 4,
 "nbformat_minor": 2
}
