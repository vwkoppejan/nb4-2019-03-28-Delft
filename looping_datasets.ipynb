{
 "cells": [
  {
   "cell_type": "markdown",
   "metadata": {},
   "source": [
    "# Use a for loop to process files given a list of their names.\n",
    "\n",
    "* A filename is just a character string.\n",
    "* And lists can contain character strings."
   ]
  },
  {
   "cell_type": "code",
   "execution_count": null,
   "metadata": {},
   "outputs": [],
   "source": []
  },
  {
   "cell_type": "markdown",
   "metadata": {},
   "source": [
    "# Use `glob.glob` to find sets of files whose names match a pattern.\n",
    "* In Unix, the term “globbing” means “matching a set of files with a pattern”.\n",
    "* The most common patterns are:\n",
    "    * `*` meaning “match zero or more characters”\n",
    "    * `?` meaning “match exactly one character”\n",
    "* Python contains the `glob` library to provide pattern matching functionality\n",
    "* The `glob` library contains a function also called `glob` to match file patterns\n",
    "* E.g., g`lob.glob('*.txt')` matches all files in the current directory whose names end with `.txt`.\n",
    "* Result is a (possibly empty) list of character strings."
   ]
  },
  {
   "cell_type": "code",
   "execution_count": null,
   "metadata": {},
   "outputs": [],
   "source": []
  },
  {
   "cell_type": "markdown",
   "metadata": {},
   "source": [
    "# Use glob and for to process batches of files.\n",
    "* Helps a lot if the files are named and stored systematically and consistently so that simple patterns will find the right data."
   ]
  },
  {
   "cell_type": "code",
   "execution_count": null,
   "metadata": {},
   "outputs": [],
   "source": []
  },
  {
   "cell_type": "markdown",
   "metadata": {},
   "source": [
    "* This includes all data, as well as per-region data.\n",
    "* Use a more specific pattern in the exercises to exclude the whole data set.\n",
    "* But note that the minimum of the entire data set is also the minimum of one of the data sets, which is a nice check on correctness."
   ]
  },
  {
   "cell_type": "code",
   "execution_count": null,
   "metadata": {},
   "outputs": [],
   "source": []
  },
  {
   "cell_type": "markdown",
   "metadata": {},
   "source": [
    "# Ex. Determining Matches\n",
    "\n",
    "Which of these files is not matched by the expression `glob.glob('data/*as*.csv')`?\n",
    "\n",
    "1. `data/gapminder_gdp_africa.csv`\n",
    "2. `data/gapminder_gdp_americas.csv`\n",
    "3. `data/gapminder_gdp_asia.csv`\n",
    "4. 1 and 2 are not matched."
   ]
  },
  {
   "cell_type": "code",
   "execution_count": null,
   "metadata": {},
   "outputs": [],
   "source": []
  },
  {
   "cell_type": "markdown",
   "metadata": {},
   "source": [
    "# Ex. Minimum File Size\n",
    "Modify this program so that it prints the number of records in the file that has the fewest records.\n",
    "\n",
    "`import glob\n",
    "import pandas\n",
    "fewest = ____\n",
    "for filename in glob.glob('data/*.csv'):\n",
    "    dataframe = pandas.____(filename)\n",
    "    fewest = min(____, dataframe.shape[0])\n",
    "print('smallest file has', fewest, 'records')`\n",
    "\n",
    "Notice that the shape method returns a tuple with the number of rows and columns of the data frame."
   ]
  },
  {
   "cell_type": "code",
   "execution_count": null,
   "metadata": {},
   "outputs": [],
   "source": []
  },
  {
   "cell_type": "markdown",
   "metadata": {},
   "source": [
    "# Ex. Comparing Data\n",
    "\n",
    "Write a program that reads in the regional data sets and plots the average GDP per capita for each region over time in a single chart."
   ]
  }
 ],
 "metadata": {
  "kernelspec": {
   "display_name": "Python 3",
   "language": "python",
   "name": "python3"
  },
  "language_info": {
   "codemirror_mode": {
    "name": "ipython",
    "version": 3
   },
   "file_extension": ".py",
   "mimetype": "text/x-python",
   "name": "python",
   "nbconvert_exporter": "python",
   "pygments_lexer": "ipython3",
   "version": "3.7.1"
  }
 },
 "nbformat": 4,
 "nbformat_minor": 2
}
